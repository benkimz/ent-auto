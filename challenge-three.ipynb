{
 "cells": [
  {
   "cell_type": "code",
   "execution_count": 24,
   "metadata": {},
   "outputs": [],
   "source": [
    "\n",
    "import os\n",
    "import io\n",
    "import json\n",
    "import requests\n",
    "import pandas as pd\n",
    "import numpy as np\n",
    "import time as time"
   ]
  },
  {
   "cell_type": "markdown",
   "metadata": {},
   "source": [
    "Prepare Log File to which TV shows and other popular media will be registered."
   ]
  },
  {
   "cell_type": "code",
   "execution_count": 436,
   "metadata": {},
   "outputs": [],
   "source": [
    "my_dir = \"entertainment/\"\n",
    "bin_dir = \"bin/\"\n",
    "path_to_log_file = my_dir + bin_dir + \"logs.csv\"\n",
    "\n",
    "dfhead = ['Category', 'Title', 'Date', 'Meta', 'url', 'score', 'comments']"
   ]
  },
  {
   "cell_type": "code",
   "execution_count": 441,
   "metadata": {},
   "outputs": [],
   "source": [
    "if not os.path.exists(path_to_log_file):\n",
    "    if not os.path.exists(my_dir):\n",
    "        os.makedirs(my_dir + bin_dir)\n",
    "    with open(path_to_log_file, mode='w') as log_file:\n",
    "        log_file.write(pd.DataFrame(columns=dfhead).to_csv())\n",
    "        log_file.close()"
   ]
  },
  {
   "cell_type": "markdown",
   "metadata": {},
   "source": [
    "Import Flask to build an interactive UI"
   ]
  },
  {
   "cell_type": "code",
   "execution_count": 550,
   "metadata": {},
   "outputs": [],
   "source": [
    "from flask import Flask, render_template"
   ]
  },
  {
   "cell_type": "code",
   "execution_count": 437,
   "metadata": {},
   "outputs": [],
   "source": [
    "def date_now(delimeter='-'):\n",
    "    time_struct = time.gmtime()\n",
    "    date_str = str(time_struct.tm_mday) + f\"{delimeter}\" + str(time_struct.tm_mon) + f\"{delimeter}\" + str(time_struct.tm_year)\n",
    "    return date_str\n",
    "\n",
    "def get_all_titles(data):\n",
    "    posts = []\n",
    "    for post in data['data']['children']:\n",
    "        x = post['data']['title']\n",
    "        posts.append(x)\n",
    "    return posts\n",
    "\n",
    "def get_more_info(category=None, data=None):\n",
    "    #EXTRACTING THE TITLE, URL, SCORE AND NUMBER OF COMMENTS\n",
    "    meta_info = {}\n",
    "    for post in data['data']['children']:\n",
    "        meta_info[post['data']['title']] = {'Category': category, 'Title': post['data']['title'], 'Date': date_now(), 'Meta': 'None', \n",
    "        'url':post['data']['url'],'score':post['data']['score'],'comments':post['data']['num_comments']}\n",
    "    df = pd.DataFrame.from_dict(meta_info, orient='index')\n",
    "    return df    "
   ]
  },
  {
   "cell_type": "code",
   "execution_count": 331,
   "metadata": {},
   "outputs": [],
   "source": [
    "headers = {\n",
    "    'User-agent': 'benkimz'\n",
    "}"
   ]
  },
  {
   "cell_type": "markdown",
   "metadata": {},
   "source": [
    "Request a list of 15 items per genre"
   ]
  },
  {
   "cell_type": "code",
   "execution_count": 439,
   "metadata": {},
   "outputs": [],
   "source": [
    "LIMIT = '25'\n",
    "year = '2022'"
   ]
  },
  {
   "cell_type": "code",
   "execution_count": 535,
   "metadata": {},
   "outputs": [],
   "source": [
    "all_music = requests.get(url = f'https://www.reddit.com/r/Music/top.json?limit={LIMIT}&t={year}', headers=headers).json()\n",
    "new_music = requests.get(url = f'https://www.reddit.com/r/NewMusic/top.json?limit={LIMIT}&t={year}', headers=headers).json()\n",
    "tv_shows = requests.get(url = f'https://www.reddit.com/r/television/top.json?limit={LIMIT}&t={year}', headers=headers).json()\n",
    "new_tv_shows = requests.get(url = f'https://www.reddit.com/r/televisionsuggestions/top.json?limit={LIMIT}&t={year}', headers=headers).json()"
   ]
  },
  {
   "cell_type": "markdown",
   "metadata": {},
   "source": [
    "Check items in the Log Files to update register"
   ]
  },
  {
   "cell_type": "code",
   "execution_count": 545,
   "metadata": {},
   "outputs": [],
   "source": [
    "def add_to_logs(category, data, limit=1000):\n",
    "    rich_data = get_more_info(category=category, data=data).copy()\n",
    "    data_frame = pd.read_csv(path_to_log_file).filter(items=dfhead)\n",
    "    try:\n",
    "        if limit > (int(len(data)) - 1):\n",
    "            limit = int(len(data)) - 1\n",
    "        for i in range(0, limit):\n",
    "            data_frame.loc[data_frame.shape[0]+1] = list(np.array(rich_data)[i])\n",
    "        with open(path_to_log_file, mode='w', encoding='utf-8') as data_log:\n",
    "            data_log.write(data_frame.to_csv())\n",
    "            data_log.close()\n",
    "    except Exception as E:\n",
    "        return False\n",
    "\n",
    "data = {\n",
    "    \"A\": {\n",
    "        \"category\": \"Music\", \n",
    "        \"data\": all_music\n",
    "    }, \n",
    "    \"B\": {\n",
    "        \"category\": \"Music\", \n",
    "        \"data\": new_music\n",
    "    }, \n",
    "    \"C\": {\n",
    "        \"category\": \"TV shows\", \n",
    "        \"data\": tv_shows\n",
    "    }, \n",
    "    \"D\": {\n",
    "        \"category\": \"TV shows\", \n",
    "        \"data\": new_tv_shows\n",
    "    }\n",
    "}\n",
    "\n",
    "MIN_SCORE = 450\n",
    "MIN_COMMENTS = 450\n",
    "populars = set()\n",
    "\n",
    "dframe = pd.read_csv(path_to_log_file).filter(items=dfhead)\n",
    "if len(dframe) == 0:\n",
    "    for item in data:\n",
    "        add_to_logs(data[item]['category'], data[item]['data'])\n",
    "else:\n",
    "    response_data = [(title, data[d]['data']['data']['children'][0]['data']['url'], data[d]['data']['data']['children'][0]['data']['score'], data[d]['data']['data']['children'][0]['data']['num_comments']) for title in get_all_titles(data[d]['data']) for d in data]\n",
    "    response_obj = [{title: {'category': data[d]['category'], \"score\": score, \"comments\": comments, \"info\": data[d]['data']}} for title, _, score, comments in response_data]\n",
    "    saved_titles = list(dframe['Title'])\n",
    "    for meta in response_obj:\n",
    "        for meta_data in meta:\n",
    "            if meta[meta_data]['score'] > MIN_SCORE or meta[meta_data]['score'] == MIN_SCORE:\n",
    "                if meta[meta_data]['comments'] > MIN_COMMENTS or meta[meta_data]['comments'] == MIN_COMMENTS:\n",
    "                    if not meta_data in populars and not meta_data in saved_titles:\n",
    "                        populars.add(meta_data)\n",
    "                        add_to_logs(meta[meta_data]['category'], meta[meta_data]['info'])\n",
    "                else:\n",
    "                    pass\n",
    "            else:\n",
    "                pass"
   ]
  },
  {
   "cell_type": "markdown",
   "metadata": {},
   "source": [
    "View a list of some of the latest TV shows and music whose popularity is growing fast"
   ]
  },
  {
   "cell_type": "code",
   "execution_count": 619,
   "metadata": {},
   "outputs": [
    {
     "name": "stdout",
     "output_type": "stream",
     "text": [
      "Available information include Index(['Category', 'Title', 'Date', 'Meta', 'url', 'score', 'comments'], dtype='object')\n",
      "Selected items are 55 in total\n",
      "Creteria for popularity takes into account the number of comments and an overall score\n",
      "Some of the trending items include:\n",
      "    Category                                              Title       Date  \\\n",
      "0      Music  Pink Floyd’s Roger Waters says he’s ‘far, far,...  17-7-2022   \n",
      "1      Music  I analyzed the top 100 most popular songs on r...  17-7-2022   \n",
      "2      Music  Who is a musician or band that you don’t under...  17-7-2022   \n",
      "3      Music  If I wanted to know what Alabama Shakes is all...  17-7-2022   \n",
      "4      Music               Music recs for people tripping balls  17-7-2022   \n",
      "5      Music  My friend makes edm music. He's been going thr...  17-7-2022   \n",
      "6      Music  John Lee Hooker - One Bourbon, One Scotch, One...  17-7-2022   \n",
      "7      Music  The Menzingers - America (You're Freaking Me O...  17-7-2022   \n",
      "8      Music  Have you ever listened to a song's instrumenta...  17-7-2022   \n",
      "9      Music  7 years ago today, my wife and I saw the GOAT ...  17-7-2022   \n",
      "10     Music  Anyone think blasting a song at times can make...  17-7-2022   \n",
      "11     Music  The Beach Boys - I'd Love Just Once To See You...  17-7-2022   \n",
      "12     Music                     What’s your favorite sad song?  17-7-2022   \n",
      "13     Music                             Discography Discussion  17-7-2022   \n",
      "14     Music  Axel Rose, Layne Staley, Kurt Cobain, Billy Co...  17-7-2022   \n",
      "15  TV shows  Moral Orel: How the Adult Swim Show Became Arg...  17-7-2022   \n",
      "16  TV shows  Himesh Patel’s Emmy Nomination For 'Station El...  17-7-2022   \n",
      "17  TV shows  Why ‘What We Do in The Shadows’ Deserves to Wi...  17-7-2022   \n",
      "18  TV shows  ‘Property porn’: is TV’s obsession with home b...  17-7-2022   \n",
      "19  TV shows  After four seasons, I can no longer stomach St...  17-7-2022   \n",
      "20  TV shows  You’ve Never Seen Anything Quite Like ‘The Reh...  17-7-2022   \n",
      "21  TV shows         The Rehearsal - Series Premiere Discussion  17-7-2022   \n",
      "22  TV shows  \"There aren’t many shows, especially in the co...  17-7-2022   \n",
      "23  TV shows  Quinta Brunson And ABC Sued Over Emmy-Nominate...  17-7-2022   \n",
      "24  TV shows  Martin Lawrence to guest star in AMC sci-fi co...  17-7-2022   \n",
      "25  TV shows  Live-Action Yu Yu Hakusho Series Casts Takumi ...  17-7-2022   \n",
      "26  TV shows  SF chefs say depictions of abusive kitchens in...  17-7-2022   \n",
      "27  TV shows  \"So, let me ask you a question about this brav...  17-7-2022   \n",
      "28  TV shows  So I finally got a streamer with Picard and am...  17-7-2022   \n",
      "29  TV shows  [Justified] Raylan Givens is shown Hitler's pa...  17-7-2022   \n",
      "30  TV shows                                   Funniest Dramas?  17-7-2022   \n",
      "31  TV shows                                   Funniest Dramas?  17-7-2022   \n",
      "32  TV shows                                   Funniest Dramas?  17-7-2022   \n",
      "33  TV shows                                   Funniest Dramas?  17-7-2022   \n",
      "34  TV shows                                   Funniest Dramas?  17-7-2022   \n",
      "35  TV shows                                   Funniest Dramas?  17-7-2022   \n",
      "36  TV shows                                   Funniest Dramas?  17-7-2022   \n",
      "37  TV shows                                   Funniest Dramas?  17-7-2022   \n",
      "38  TV shows                                   Funniest Dramas?  17-7-2022   \n",
      "39  TV shows                                   Funniest Dramas?  17-7-2022   \n",
      "40  TV shows                                   Funniest Dramas?  17-7-2022   \n",
      "41  TV shows                                   Funniest Dramas?  17-7-2022   \n",
      "42  TV shows                                   Funniest Dramas?  17-7-2022   \n",
      "43  TV shows                                   Funniest Dramas?  17-7-2022   \n",
      "44  TV shows                                   Funniest Dramas?  17-7-2022   \n",
      "45  TV shows                                   Funniest Dramas?  17-7-2022   \n",
      "46  TV shows                                   Funniest Dramas?  17-7-2022   \n",
      "47  TV shows                                   Funniest Dramas?  17-7-2022   \n",
      "48  TV shows                                   Funniest Dramas?  17-7-2022   \n",
      "49  TV shows                                   Funniest Dramas?  17-7-2022   \n",
      "\n",
      "    Meta                                                url  score  comments  \n",
      "0   None  https://www.theglobeandmail.com/arts/music/art...  19692      4297  \n",
      "1   None  https://www.reddit.com/r/Music/comments/w0rqva...    333        46  \n",
      "2   None  https://www.reddit.com/r/Music/comments/w0oz30...    108       795  \n",
      "3   None  https://www.reddit.com/r/Music/comments/w0ms3b...     71        46  \n",
      "4   None  https://www.reddit.com/r/Music/comments/w0oobf...     86       289  \n",
      "5   None           https://www.bandlab.com/strawberry_coven     41        19  \n",
      "6   None  https://open.spotify.com/track/2dp14VWbIxOVNma...     39         4  \n",
      "7   None                       https://youtu.be/tHMQbwp_rAg     28         4  \n",
      "8   None  https://www.reddit.com/r/Music/comments/w0fanq...     18        40  \n",
      "9   None  https://www.reddit.com/r/Music/comments/w05ogw...     18         8  \n",
      "10  None  https://www.reddit.com/r/Music/comments/w07h6z...     16        23  \n",
      "11  None                       https://youtu.be/2GhzpQ16h2M     13         4  \n",
      "12  None  https://www.reddit.com/r/Music/comments/w0v4ws...     19        74  \n",
      "13  None  https://www.reddit.com/r/Music/comments/w0sr7q...     10         6  \n",
      "14  None  https://www.reddit.com/r/Music/comments/w0kozh...      6        81  \n",
      "15  None  https://movieweb.com/moral-orel-most-heartbrea...   7633       681  \n",
      "16  None  https://collider.com/himesh-patel-emmy-nominat...   4730       292  \n",
      "17  None  https://collider.com/what-we-do-in-the-shadows...   4121       295  \n",
      "18  None  https://www.theguardian.com/tv-and-radio/2022/...   1719       280  \n",
      "19  None  https://www.reddit.com/r/television/comments/w...   1200       676  \n",
      "20  None  https://www.theatlantic.com/culture/archive/20...    927       117  \n",
      "21  None  https://www.reddit.com/r/television/comments/w...    636       411  \n",
      "22  None  https://consequence.net/2022/07/the-rehearsal-...    511        42  \n",
      "23  None  https://www.yahoo.com/entertainment/quinta-bru...    305       103  \n",
      "24  None  https://thegrio.com/2022/07/16/martin-lawrence...    266        18  \n",
      "25  None  https://www.animenewsnetwork.com/news/2022-07-...    198        82  \n",
      "26  None  https://www.sfgate.com/food/article/Bay-Area-c...    251        23  \n",
      "27  None        https://www.youtube.com/watch?v=BJP9o4BEziI     76        11  \n",
      "28  None  https://www.reddit.com/r/television/comments/w...     71        87  \n",
      "29  None                   https://youtu.be/TNnpXLiJIC0?t=1     51        13  \n",
      "30  None  https://www.reddit.com/r/televisionsuggestions...     15        18  \n",
      "31  None  https://www.reddit.com/r/televisionsuggestions...     15        18  \n",
      "32  None  https://www.reddit.com/r/televisionsuggestions...     15        18  \n",
      "33  None  https://www.reddit.com/r/televisionsuggestions...     15        18  \n",
      "34  None  https://www.reddit.com/r/televisionsuggestions...     15        18  \n",
      "35  None  https://www.reddit.com/r/televisionsuggestions...     15        18  \n",
      "36  None  https://www.reddit.com/r/televisionsuggestions...     15        18  \n",
      "37  None  https://www.reddit.com/r/televisionsuggestions...     15        18  \n",
      "38  None  https://www.reddit.com/r/televisionsuggestions...     15        18  \n",
      "39  None  https://www.reddit.com/r/televisionsuggestions...     15        18  \n",
      "40  None  https://www.reddit.com/r/televisionsuggestions...     15        18  \n",
      "41  None  https://www.reddit.com/r/televisionsuggestions...     15        18  \n",
      "42  None  https://www.reddit.com/r/televisionsuggestions...     15        18  \n",
      "43  None  https://www.reddit.com/r/televisionsuggestions...     15        18  \n",
      "44  None  https://www.reddit.com/r/televisionsuggestions...     15        18  \n",
      "45  None  https://www.reddit.com/r/televisionsuggestions...     15        18  \n",
      "46  None  https://www.reddit.com/r/televisionsuggestions...     15        18  \n",
      "47  None  https://www.reddit.com/r/televisionsuggestions...     15        18  \n",
      "48  None  https://www.reddit.com/r/televisionsuggestions...     15        18  \n",
      "49  None  https://www.reddit.com/r/televisionsuggestions...     15        18  \n"
     ]
    }
   ],
   "source": [
    "populars = dframe[:75]\n",
    "print(f'Available information include {populars.keys()}')\n",
    "print(f'Selected items are {dframe.shape[0]} in total')\n",
    "print(f'Creteria for popularity takes into account the number of comments and an overall score')\n",
    "print('Some of the trending items include:')\n",
    "print(dframe[:50])"
   ]
  },
  {
   "cell_type": "code",
   "execution_count": 614,
   "metadata": {},
   "outputs": [],
   "source": [
    "app = Flask(__name__)"
   ]
  },
  {
   "cell_type": "code",
   "execution_count": 615,
   "metadata": {},
   "outputs": [],
   "source": [
    "@app.route('/')\n",
    "def home_page():\n",
    "    return render_template('index.html')\n",
    "@app.route('/television/')\n",
    "def home_television():\n",
    "    return dframe\n"
   ]
  },
  {
   "cell_type": "code",
   "execution_count": 616,
   "metadata": {},
   "outputs": [
    {
     "name": "stdout",
     "output_type": "stream",
     "text": [
      " * Serving Flask app '__main__' (lazy loading)\n",
      " * Environment: production\n",
      "\u001b[31m   WARNING: This is a development server. Do not use it in a production deployment.\u001b[0m\n",
      "\u001b[2m   Use a production WSGI server instead.\u001b[0m\n",
      " * Debug mode: off\n"
     ]
    },
    {
     "name": "stderr",
     "output_type": "stream",
     "text": [
      " * Running on http://127.0.0.1:5055/ (Press CTRL+C to quit)\n",
      "[2022-07-17 08:22:17,533] ERROR in app: Exception on /television/ [GET]\n",
      "Traceback (most recent call last):\n",
      "  File \"c:\\Users\\benkimz\\AppData\\Local\\Programs\\Python\\Python39\\lib\\site-packages\\flask\\app.py\", line 2073, in wsgi_app\n",
      "    response = self.full_dispatch_request()\n",
      "  File \"c:\\Users\\benkimz\\AppData\\Local\\Programs\\Python\\Python39\\lib\\site-packages\\flask\\app.py\", line 1519, in full_dispatch_request\n",
      "    return self.finalize_request(rv)\n",
      "  File \"c:\\Users\\benkimz\\AppData\\Local\\Programs\\Python\\Python39\\lib\\site-packages\\flask\\app.py\", line 1538, in finalize_request\n",
      "    response = self.make_response(rv)\n",
      "  File \"c:\\Users\\benkimz\\AppData\\Local\\Programs\\Python\\Python39\\lib\\site-packages\\flask\\app.py\", line 1730, in make_response\n",
      "    raise TypeError(\n",
      "TypeError: The view function did not return a valid response. The return type must be a string, dict, tuple, Response instance, or WSGI callable, but it was a DataFrame.\n",
      "127.0.0.1 - - [17/Jul/2022 08:22:17] \"GET /television/ HTTP/1.1\" 500 -\n",
      "[2022-07-17 08:22:18,711] ERROR in app: Exception on /television/ [GET]\n",
      "Traceback (most recent call last):\n",
      "  File \"c:\\Users\\benkimz\\AppData\\Local\\Programs\\Python\\Python39\\lib\\site-packages\\flask\\app.py\", line 2073, in wsgi_app\n",
      "    response = self.full_dispatch_request()\n",
      "  File \"c:\\Users\\benkimz\\AppData\\Local\\Programs\\Python\\Python39\\lib\\site-packages\\flask\\app.py\", line 1519, in full_dispatch_request\n",
      "    return self.finalize_request(rv)\n",
      "  File \"c:\\Users\\benkimz\\AppData\\Local\\Programs\\Python\\Python39\\lib\\site-packages\\flask\\app.py\", line 1538, in finalize_request\n",
      "    response = self.make_response(rv)\n",
      "  File \"c:\\Users\\benkimz\\AppData\\Local\\Programs\\Python\\Python39\\lib\\site-packages\\flask\\app.py\", line 1730, in make_response\n",
      "    raise TypeError(\n",
      "TypeError: The view function did not return a valid response. The return type must be a string, dict, tuple, Response instance, or WSGI callable, but it was a DataFrame.\n",
      "127.0.0.1 - - [17/Jul/2022 08:22:18] \"GET /television/ HTTP/1.1\" 500 -\n",
      "127.0.0.1 - - [17/Jul/2022 08:23:12] \"GET /videos/ HTTP/1.1\" 404 -\n",
      "[2022-07-17 08:23:14,328] ERROR in app: Exception on /television/ [GET]\n",
      "Traceback (most recent call last):\n",
      "  File \"c:\\Users\\benkimz\\AppData\\Local\\Programs\\Python\\Python39\\lib\\site-packages\\flask\\app.py\", line 2073, in wsgi_app\n",
      "    response = self.full_dispatch_request()\n",
      "  File \"c:\\Users\\benkimz\\AppData\\Local\\Programs\\Python\\Python39\\lib\\site-packages\\flask\\app.py\", line 1519, in full_dispatch_request\n",
      "    return self.finalize_request(rv)\n",
      "  File \"c:\\Users\\benkimz\\AppData\\Local\\Programs\\Python\\Python39\\lib\\site-packages\\flask\\app.py\", line 1538, in finalize_request\n",
      "    response = self.make_response(rv)\n",
      "  File \"c:\\Users\\benkimz\\AppData\\Local\\Programs\\Python\\Python39\\lib\\site-packages\\flask\\app.py\", line 1730, in make_response\n",
      "    raise TypeError(\n",
      "TypeError: The view function did not return a valid response. The return type must be a string, dict, tuple, Response instance, or WSGI callable, but it was a DataFrame.\n",
      "127.0.0.1 - - [17/Jul/2022 08:23:14] \"GET /television/ HTTP/1.1\" 500 -\n"
     ]
    }
   ],
   "source": [
    "if __name__ == '__main__':\n",
    "    app.run(port=5055)"
   ]
  }
 ],
 "metadata": {
  "kernelspec": {
   "display_name": "Python 3.9.1 64-bit",
   "language": "python",
   "name": "python3"
  },
  "language_info": {
   "codemirror_mode": {
    "name": "ipython",
    "version": 3
   },
   "file_extension": ".py",
   "mimetype": "text/x-python",
   "name": "python",
   "nbconvert_exporter": "python",
   "pygments_lexer": "ipython3",
   "version": "3.9.1"
  },
  "orig_nbformat": 4,
  "vscode": {
   "interpreter": {
    "hash": "ada575d3dd8cf7381b26b9e2f98f0c7b065cc34d4378ba0eeb410d9340e9fa8d"
   }
  }
 },
 "nbformat": 4,
 "nbformat_minor": 2
}
