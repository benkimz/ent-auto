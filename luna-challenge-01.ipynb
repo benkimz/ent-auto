{
 "cells": [
  {
   "cell_type": "code",
   "execution_count": 119,
   "metadata": {},
   "outputs": [],
   "source": [
    "import numpy as np"
   ]
  },
  {
   "cell_type": "code",
   "execution_count": 120,
   "metadata": {},
   "outputs": [],
   "source": [
    "def check_list(k=0, numbers=[]):\n",
    "    num = 0\n",
    "    for i in range(0, len(numbers)):\n",
    "        target = numbers[i]\n",
    "        sums = np.array(numbers) + target\n",
    "        if k in sums:\n",
    "            return True\n",
    "    if num == 0:\n",
    "        return False"
   ]
  },
  {
   "cell_type": "code",
   "execution_count": 122,
   "metadata": {},
   "outputs": [
    {
     "data": {
      "text/plain": [
       "True"
      ]
     },
     "execution_count": 122,
     "metadata": {},
     "output_type": "execute_result"
    }
   ],
   "source": [
    "check_list(17, [10, 15, 2, 70, 11])"
   ]
  }
 ],
 "metadata": {
  "kernelspec": {
   "display_name": "Python 3.9.1 64-bit",
   "language": "python",
   "name": "python3"
  },
  "language_info": {
   "codemirror_mode": {
    "name": "ipython",
    "version": 3
   },
   "file_extension": ".py",
   "mimetype": "text/x-python",
   "name": "python",
   "nbconvert_exporter": "python",
   "pygments_lexer": "ipython3",
   "version": "3.9.1"
  },
  "orig_nbformat": 4,
  "vscode": {
   "interpreter": {
    "hash": "ada575d3dd8cf7381b26b9e2f98f0c7b065cc34d4378ba0eeb410d9340e9fa8d"
   }
  }
 },
 "nbformat": 4,
 "nbformat_minor": 2
}
